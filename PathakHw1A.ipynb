{
 "cells": [
  {
   "metadata": {},
   "cell_type": "markdown",
   "source": [
    "# This is a sample Jupyter Notebook\n",
    "\n",
    "Below is an example of a code cell. \n",
    "Put your cursor into the cell and press Shift+Enter to execute it and select the next one, or click 'Run Cell' button.\n",
    "\n",
    "Press Double Shift to search everywhere for classes, files, tool windows, actions, and settings.\n",
    "\n",
    "To learn more about Jupyter Notebooks in PyCharm, see [help](https://www.jetbrains.com/help/pycharm/ipython-notebook-support.html).\n",
    "For an overview of PyCharm, go to Help -> Learn IDE features or refer to [our documentation](https://www.jetbrains.com/help/pycharm/getting-started.html)."
   ],
   "id": "8a77807f92f26ee"
  },
  {
   "metadata": {
    "ExecuteTime": {
     "end_time": "2025-01-30T03:20:39.713638Z",
     "start_time": "2025-01-30T03:20:39.709937Z"
    }
   },
   "cell_type": "code",
   "source": [
    "#Shivam Pathak\n",
    "#CSCI 3412\n",
    "#Professor Zheshuo Li\n",
    "#Homework 1a: Subsitution cipher\n",
    "\n",
    "#Function to encode message\n",
    "def encode_message(message,n):\n",
    "    encoded = \"\"\n",
    "    for char in message:\n",
    "        if char.isalpha(): # This will check if it is a letter\n",
    "            base = ord('A') if char.isupper() else ord('a')\n",
    "            encoded += chr((ord(char) - base + n) % 26 + base)\n",
    "        elif char.isdigit(): #shift\n",
    "            encoded += chr((ord(char) - ord('0') + n) % 10 + ord('0'))\n",
    "        else:\n",
    "            encoded += char #Keep non-alphanumeric chars unchanged\n",
    "    return encoded"
   ],
   "id": "fbc121e30a2defb3",
   "outputs": [],
   "execution_count": 5
  },
  {
   "metadata": {
    "ExecuteTime": {
     "end_time": "2025-01-30T03:20:41.149452Z",
     "start_time": "2025-01-30T03:20:41.146962Z"
    }
   },
   "cell_type": "code",
   "source": [
    "#Function to decode message\n",
    "def decode_message(encoded_message, n):\n",
    "    return encode_message(encoded_message, -n)"
   ],
   "id": "c859100a076367ec",
   "outputs": [],
   "execution_count": 6
  },
  {
   "metadata": {
    "ExecuteTime": {
     "end_time": "2025-01-30T03:21:01.184642Z",
     "start_time": "2025-01-30T03:20:42.208786Z"
    }
   },
   "cell_type": "code",
   "source": [
    "#Main Function\n",
    "def main():\n",
    "    #user input\n",
    "    n = int(input(\"Enter the value to shift (1-25):\"))\n",
    "    if n < 1 or n > 25:\n",
    "        print(\"Invalid shift value, Enter a number between 1-25! \")\n",
    "        return\n",
    "    message = input(\"Enter the message you want to encode ?\")\n",
    "\n",
    "    #Encode/Decode the user message\n",
    "    encoded_message = encode_message(message,n)\n",
    "    decoded_message = decode_message(encoded_message, n)\n",
    "\n",
    "    #Print results\n",
    "    print(\"\\nOriginal Message:\", message)\n",
    "    print(\"Shift(n):\", n)\n",
    "    print(\"Encoded Message:\", encoded_message)\n",
    "    print(\"Decoded Message:\", decoded_message)\n",
    "\n",
    "\n",
    "if __name__ == \"__main__\":\n",
    "    main()"
   ],
   "id": "13fb9f42aa6b822b",
   "outputs": [
    {
     "name": "stdout",
     "output_type": "stream",
     "text": [
      "\n",
      "Original Message: Hello, CSCI 3412 Students !\n",
      "Shift(n): 3\n",
      "Encoded Message: Khoor, FVFL 6745 Vwxghqwv !\n",
      "Decoded Message: Hello, CSCI 3412 Students !\n"
     ]
    }
   ],
   "execution_count": 7
  },
  {
   "metadata": {
    "ExecuteTime": {
     "end_time": "2025-01-30T03:18:51.896987Z",
     "start_time": "2025-01-30T03:18:51.894126Z"
    }
   },
   "cell_type": "code",
   "source": "",
   "id": "ff1366054c3e8729",
   "outputs": [],
   "execution_count": null
  },
  {
   "metadata": {},
   "cell_type": "code",
   "outputs": [],
   "execution_count": null,
   "source": "",
   "id": "9a961c893e79c22b"
  }
 ],
 "metadata": {
  "kernelspec": {
   "display_name": "Python 3",
   "language": "python",
   "name": "python3"
  },
  "language_info": {
   "codemirror_mode": {
    "name": "ipython",
    "version": 2
   },
   "file_extension": ".py",
   "mimetype": "text/x-python",
   "name": "python",
   "nbconvert_exporter": "python",
   "pygments_lexer": "ipython2",
   "version": "2.7.6"
  }
 },
 "nbformat": 4,
 "nbformat_minor": 5
}
