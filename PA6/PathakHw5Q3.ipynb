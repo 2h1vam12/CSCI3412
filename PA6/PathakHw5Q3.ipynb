{
 "cells": [
  {
   "cell_type": "code",
   "id": "initial_id",
   "metadata": {
    "collapsed": true,
    "ExecuteTime": {
     "end_time": "2025-04-26T14:55:14.214419Z",
     "start_time": "2025-04-26T14:55:14.211420Z"
    }
   },
   "source": [
    "#Q3 part 1: Spelling checker with LED distance\n",
    "import sys\n",
    "import re\n",
    "from collections import Counter"
   ],
   "outputs": [],
   "execution_count": 5
  },
  {
   "metadata": {
    "ExecuteTime": {
     "end_time": "2025-04-26T14:55:09.888810Z",
     "start_time": "2025-04-26T14:55:09.881379Z"
    }
   },
   "cell_type": "code",
   "source": [
    "# Bottom-Up Levenshtein Distance function\n",
    "def levenshtein_distance(word1, word2):\n",
    "    m, n = len(word1), len(word2)\n",
    "    dp = [[0]*(n+1) for _ in range(m+1)]\n",
    "\n",
    "    for i in range(m+1):\n",
    "        dp[i][0] = i\n",
    "    for j in range(n+1):\n",
    "        dp[0][j] = j\n",
    "\n",
    "    for i in range(1, m+1):\n",
    "        for j in range(1, n+1):\n",
    "            if word1[i-1] == word2[j-1]:\n",
    "                cost = 0\n",
    "            else:\n",
    "                cost = 1\n",
    "            dp[i][j] = min(dp[i-1][j] + 1,    # deletion\n",
    "                           dp[i][j-1] + 1,    # insertion\n",
    "                           dp[i-1][j-1] + cost)  # substitution\n",
    "    return dp[m][n]\n",
    "\n",
    "# Load dictionary words and frequencies\n",
    "def load_dictionary(filename):\n",
    "    with open(filename, 'r', encoding='utf-8') as f:\n",
    "        text = f.read().lower()\n",
    "    words = re.findall(r'\\b[a-z]+\\b', text)\n",
    "    return Counter(words)\n",
    "\n",
    "# Load misspelled words\n",
    "def load_misspelled(filename):\n",
    "    with open(filename, 'r', encoding='utf-8') as f:\n",
    "        text = f.read().lower()\n",
    "    return re.findall(r'\\b[a-z]+\\b', text)\n",
    "\n",
    "# Find suggestions for a misspelled word\n",
    "def get_suggestions(word, dictionary, max_edit_distance, min_word_length):\n",
    "    suggestions = []\n",
    "    for dict_word in dictionary.keys():\n",
    "        if len(dict_word) >= min_word_length:\n",
    "            distance = levenshtein_distance(word, dict_word)\n",
    "            if distance <= max_edit_distance:\n",
    "                suggestions.append((dict_word, (distance, dictionary[dict_word])))\n",
    "    suggestions.sort(key=lambda x: (x[1][0], -x[1][1]))  # sort by (edit distance, frequency descending)\n",
    "    return suggestions\n",
    "\n",
    "# Main function to run in Jupyter\n",
    "def run_spell_checker(max_suggestions=7, dictionary_file='dictionary.txt', misspelled_file='misspelled.txt'):\n",
    "    dictionary = load_dictionary(dictionary_file)\n",
    "    print(f\"Dictionary size: {len(dictionary)}\")\n",
    "\n",
    "    misspelled_words = load_misspelled(misspelled_file)\n",
    "\n",
    "    max_edit_distance = 2\n",
    "    min_word_length = 3\n",
    "\n",
    "    for word in misspelled_words:\n",
    "        if word not in dictionary:\n",
    "            suggestions = get_suggestions(word, dictionary, max_edit_distance, min_word_length)\n",
    "            suggestions = suggestions[:max_suggestions]\n",
    "            suggestion_dict = {w: info for w, info in suggestions}\n",
    "            print(f\"\\n- Suggestions for '{word}': {suggestion_dict}\")\n",
    "\n",
    "# Example Usage in Jupyter:\n",
    "# run_spell_checker(7)"
   ],
   "id": "68bbbb95b05a064a",
   "outputs": [],
   "execution_count": 4
  },
  {
   "metadata": {
    "ExecuteTime": {
     "end_time": "2025-04-26T14:55:28.881955Z",
     "start_time": "2025-04-26T14:55:21.997486Z"
    }
   },
   "cell_type": "code",
   "source": "run_spell_checker(7)\n",
   "id": "3e01b09066a561f",
   "outputs": [
    {
     "name": "stdout",
     "output_type": "stream",
     "text": [
      "Dictionary size: 29056\n",
      "\n",
      "- Suggestions for 'homan': {'woman': (1, 323), 'human': (1, 170), 'coman': (1, 17), 'roman': (1, 8), 'man': (2, 1648), 'women': (2, 385), 'home': (2, 294)}\n",
      "\n",
      "- Suggestions for 'spote': {'spoke': (1, 218), 'spite': (1, 117), 'spot': (1, 76), 'spots': (1, 12), 'smote': (1, 4), 'spore': (1, 3), 'some': (2, 1536)}\n",
      "\n",
      "- Suggestions for 'belst': {'best': (1, 268), 'beast': (1, 26), 'belt': (1, 11), 'felt': (2, 697), 'west': (2, 280), 'rest': (2, 206), 'else': (2, 201)}\n",
      "\n",
      "- Suggestions for 'effrts': {'efforts': (1, 103), 'effort': (2, 130), 'effects': (2, 82), 'forts': (2, 8), 'exerts': (2, 3), 'effete': (2, 1)}\n",
      "\n",
      "- Suggestions for 'speling': {'spelling': (1, 4), 'feeling': (2, 362), 'seeing': (2, 207), 'speaking': (2, 185), 'swelling': (2, 164), 'smiling': (2, 161), 'opening': (2, 146)}\n",
      "\n",
      "- Suggestions for 'perrfect': {'perfect': (1, 39), 'prefect': (2, 2)}\n",
      "\n",
      "- Suggestions for 'avorage': {'average': (1, 18), 'voyage': (2, 12), 'forage': (2, 7), 'storage': (2, 3), 'averages': (2, 1), 'averaged': (2, 1)}\n",
      "\n",
      "- Suggestions for 'typo': {'type': (1, 84), 'two': (2, 1137), 'too': (2, 548), 'top': (2, 42), 'types': (2, 33), 'tips': (2, 16), 'tap': (2, 10)}\n",
      "\n",
      "- Suggestions for 'misspeling': {}\n",
      "\n",
      "- Suggestions for 'mlch': {'much': (1, 671), 'such': (2, 1436), 'each': (2, 411), 'march': (2, 134), 'rich': (2, 92), 'match': (2, 41), 'mack': (2, 22)}\n",
      "\n",
      "- Suggestions for 'mistkes': {'mistakes': (1, 15), 'mistaken': (2, 59), 'mistake': (2, 39), 'mistress': (2, 24), 'mister': (2, 2), 'misses': (2, 2), 'mists': (2, 1)}\n",
      "\n",
      "- Suggestions for 'hauunt': {'haunt': (1, 2), 'aunt': (2, 52), 'hunt': (2, 31), 'gaunt': (2, 5), 'taunt': (2, 1)}\n",
      "\n",
      "- Suggestions for 'odoor': {'door': (1, 498), 'odour': (1, 19), 'odor': (1, 6), 'poor': (2, 128), 'floor': (2, 105), 'doors': (2, 47), 'doom': (2, 6)}\n",
      "\n",
      "- Suggestions for 'colone': {'colonel': (1, 143), 'colony': (1, 57), 'colon': (1, 9), 'cologne': (1, 3), 'alone': (2, 337), 'close': (2, 219), 'colonies': (2, 202)}\n"
     ]
    }
   ],
   "execution_count": 6
  },
  {
   "metadata": {},
   "cell_type": "markdown",
   "source": [
    "Markdown Outputs: Dictionary size: 29056\n",
    "\n",
    "- Suggestions for 'homan': {'woman': (1, 323), 'human': (1, 170), 'coman': (1, 17), 'roman': (1, 8), 'man': (2, 1648), 'women': (2, 385), 'home': (2, 294)}\n",
    "\n",
    "- Suggestions for 'spote': {'spoke': (1, 218), 'spite': (1, 117), 'spot': (1, 76), 'spots': (1, 12), 'smote': (1, 4), 'spore': (1, 3), 'some': (2, 1536)}\n",
    "\n",
    "- Suggestions for 'belst': {'best': (1, 268), 'beast': (1, 26), 'belt': (1, 11), 'felt': (2, 697), 'west': (2, 280), 'rest': (2, 206), 'else': (2, 201)}\n",
    "\n",
    "- Suggestions for 'effrts': {'efforts': (1, 103), 'effort': (2, 130), 'effects': (2, 82), 'forts': (2, 8), 'exerts': (2, 3), 'effete': (2, 1)}\n",
    "\n",
    "- Suggestions for 'speling': {'spelling': (1, 4), 'feeling': (2, 362), 'seeing': (2, 207), 'speaking': (2, 185), 'swelling': (2, 164), 'smiling': (2, 161), 'opening': (2, 146)}\n",
    "\n",
    "- Suggestions for 'perrfect': {'perfect': (1, 39), 'prefect': (2, 2)}\n",
    "\n",
    "- Suggestions for 'avorage': {'average': (1, 18), 'voyage': (2, 12), 'forage': (2, 7), 'storage': (2, 3), 'averages': (2, 1), 'averaged': (2, 1)}\n",
    "\n",
    "- Suggestions for 'typo': {'type': (1, 84), 'two': (2, 1137), 'too': (2, 548), 'top': (2, 42), 'types': (2, 33), 'tips': (2, 16), 'tap': (2, 10)}\n",
    "\n",
    "- Suggestions for 'misspeling': {}\n",
    "\n",
    "- Suggestions for 'mlch': {'much': (1, 671), 'such': (2, 1436), 'each': (2, 411), 'march': (2, 134), 'rich': (2, 92), 'match': (2, 41), 'mack': (2, 22)}\n",
    "\n",
    "- Suggestions for 'mistkes': {'mistakes': (1, 15), 'mistaken': (2, 59), 'mistake': (2, 39), 'mistress': (2, 24), 'mister': (2, 2), 'misses': (2, 2), 'mists': (2, 1)}\n",
    "\n",
    "- Suggestions for 'hauunt': {'haunt': (1, 2), 'aunt': (2, 52), 'hunt': (2, 31), 'gaunt': (2, 5), 'taunt': (2, 1)}\n",
    "\n",
    "- Suggestions for 'odoor': {'door': (1, 498), 'odour': (1, 19), 'odor': (1, 6), 'poor': (2, 128), 'floor': (2, 105), 'doors': (2, 47), 'doom': (2, 6)}\n",
    "\n",
    "- Suggestions for 'colone': {'colonel': (1, 143), 'colony': (1, 57), 'colon': (1, 9), 'cologne': (1, 3), 'alone': (2, 337), 'close': (2, 219), 'colonies': (2, 202)}\n",
    "\n"
   ],
   "id": "af2bf6037aa0bb5a"
  }
 ],
 "metadata": {
  "kernelspec": {
   "display_name": "Python 3",
   "language": "python",
   "name": "python3"
  },
  "language_info": {
   "codemirror_mode": {
    "name": "ipython",
    "version": 2
   },
   "file_extension": ".py",
   "mimetype": "text/x-python",
   "name": "python",
   "nbconvert_exporter": "python",
   "pygments_lexer": "ipython2",
   "version": "2.7.6"
  }
 },
 "nbformat": 4,
 "nbformat_minor": 5
}
