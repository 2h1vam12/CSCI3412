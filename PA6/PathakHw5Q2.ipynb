{
 "cells": [
  {
   "cell_type": "code",
   "id": "initial_id",
   "metadata": {
    "collapsed": true,
    "ExecuteTime": {
     "end_time": "2025-04-26T14:24:00.248540Z",
     "start_time": "2025-04-26T14:23:52.102595Z"
    }
   },
   "source": [
    "#Q2 part 1: 0/1 knapsack for stock portfolio\n",
    "def stock_portfolio_knapsack(prices, returns, names, budget):\n",
    "    n = len(prices)\n",
    "    # Create DP table: (n+1) x (budget+1)\n",
    "    dp = [[0 for _ in range(budget + 1)] for _ in range(n + 1)]\n",
    "\n",
    "    # Build table\n",
    "    for i in range(1, n + 1):\n",
    "        for w in range(0, budget + 1):\n",
    "            if prices[i-1] <= w:\n",
    "                dp[i][w] = max(dp[i-1][w], returns[i-1] + dp[i-1][w - prices[i-1]])\n",
    "            else:\n",
    "                dp[i][w] = dp[i-1][w]\n",
    "\n",
    "    # Find which stocks are included\n",
    "    w = budget\n",
    "    portfolio = []\n",
    "    for i in range(n, 0, -1):\n",
    "        if dp[i][w] != dp[i-1][w]:\n",
    "            portfolio.append(names[i-1])\n",
    "            w -= prices[i-1]\n",
    "\n",
    "    total_invested = sum([prices[names.index(stock)] for stock in portfolio])\n",
    "    expected_return_value = sum([returns[names.index(stock)] for stock in portfolio]) * total_invested\n",
    "\n",
    "    return portfolio[::-1], expected_return_value, total_invested\n",
    "\n",
    "\n",
    "if __name__ == \"__main__\":\n",
    "    names = [\"APP\", \"AMZ\", \"FBB\", \"GOLG\", \"IBN\", \"MASO\", \"MDN\", \"TSLA\", \"VO\", \"WLM\"]\n",
    "    prices = [90, 1200, 150, 800, 40, 380, 160, 290, 25, 90]\n",
    "    returns = [0.10, 0.16, 0.12, 0.15, 0.08, 0.25, 0.18, 0.09, 0.11, 0.06]\n",
    "\n",
    "    budget = int(input(\"Enter the budget (up to $2500): \"))\n",
    "    if budget > 2500:\n",
    "        print(\"Budget cannot exceed $2500.\")\n",
    "    else:\n",
    "        portfolio, expected_return, total_invested = stock_portfolio_knapsack(prices, returns, names, budget)\n",
    "        print(f\"Portfolio: {portfolio}\")\n",
    "        print(f\"Expected maximum return: ${expected_return:.2f}\")\n",
    "        print(f\"Total amount invested: ${total_invested}\")\n"
   ],
   "outputs": [
    {
     "name": "stdout",
     "output_type": "stream",
     "text": [
      "Portfolio: ['APP', 'AMZ', 'FBB', 'IBN', 'MASO', 'MDN', 'TSLA', 'VO', 'WLM']\n",
      "Expected maximum return: $2788.75\n",
      "Total amount invested: $2425\n"
     ]
    }
   ],
   "execution_count": 1
  },
  {
   "metadata": {},
   "cell_type": "markdown",
   "source": [
    "***Q1 part 1- Output ***\n",
    "Portfolio: ['APP', 'AMZ', 'FBB', 'IBN', 'MASO', 'MDN', 'TSLA', 'VO', 'WLM']\n",
    "Expected maximum return: $2788.75\n",
    "Total amount invested: $2425\n"
   ],
   "id": "447f8897f07b4365"
  },
  {
   "metadata": {},
   "cell_type": "markdown",
   "source": [
    "*** Q2 part 2- Unlimited Stocks Pseudocode ***\n",
    "1. Create a list of stocks with (expected return per dollar) = (return ratio) / (price).\n",
    "2. Sort all stocks in descending order based on (expected return per dollar).\n",
    "3. Initialize:\n",
    "   total_return = 0\n",
    "   total_invested = 0\n",
    "   portfolio = []\n",
    "4. For each stock in sorted list:\n",
    "   a. If current total_invested + price <= budget:\n",
    "       - Buy as much stock as possible (even fractions)\n",
    "       - Update total_return += (price * return ratio)\n",
    "       - Update total_invested += price\n",
    "   b. Else:\n",
    "       - Buy partial stock with remaining budget.\n",
    "       - Calculate fraction = (remaining budget) / (price)\n",
    "       - Update total_return += (fraction * price * return ratio)\n",
    "       - Update total_invested += (remaining budget)\n",
    "       - Add stock to portfolio with fraction\n",
    "       - Break loop (budget is exhausted)\n",
    "5. Output portfolio, total_return, total_invested.\n"
   ],
   "id": "aecc85cb0dfcd1ac"
  },
  {
   "metadata": {},
   "cell_type": "code",
   "outputs": [],
   "execution_count": null,
   "source": "",
   "id": "65016fa33b553705"
  }
 ],
 "metadata": {
  "kernelspec": {
   "display_name": "Python 3",
   "language": "python",
   "name": "python3"
  },
  "language_info": {
   "codemirror_mode": {
    "name": "ipython",
    "version": 2
   },
   "file_extension": ".py",
   "mimetype": "text/x-python",
   "name": "python",
   "nbconvert_exporter": "python",
   "pygments_lexer": "ipython2",
   "version": "2.7.6"
  }
 },
 "nbformat": 4,
 "nbformat_minor": 5
}
